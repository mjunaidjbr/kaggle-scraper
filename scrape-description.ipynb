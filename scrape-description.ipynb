{
 "cells": [
  {
   "cell_type": "code",
   "execution_count": 1,
   "metadata": {},
   "outputs": [],
   "source": [
    "import os\n",
    "from defaults import *\n",
    "import time\n",
    "import shutil\n",
    "from selenium import webdriver\n",
    "from selenium.webdriver.common.by import By\n",
    "from selenium.webdriver.support.ui import WebDriverWait\n",
    "from selenium.webdriver.support import expected_conditions as EC\n",
    "from selenium.webdriver.chrome.options import Options\n",
    "from bs4 import BeautifulSoup\n",
    "\n"
   ]
  },
  {
   "cell_type": "code",
   "execution_count": 4,
   "metadata": {},
   "outputs": [],
   "source": [
    "#initializing the chrome driver \n",
    "\n",
    "#driver in headless mode\n",
    "options = Options()\n",
    "# options.headless = True\n",
    "options.add_argument('--disable-auto-close')\n",
    "driver = webdriver.Chrome(options=options)\n",
    "\n",
    "\n",
    "\n",
    "#set driver download path \n",
    "# setting the download path \n",
    "# driver.command_executor._commands[\"send_command\"] = (\"POST\", '/session/$sessionId/chromium/send_command')\n",
    "# params = {'cmd': 'Page.setDownloadBehavior', 'params': {'behavior': 'allow', 'downloadPath': TMP_FOLDER}}\n",
    "# command_result = driver.execute(\"send_command\", params)\n"
   ]
  },
  {
   "cell_type": "code",
   "execution_count": 5,
   "metadata": {},
   "outputs": [],
   "source": [
    "# Login to Kaggle \n",
    "# email \n",
    "email = \"nogew43062@kaudat.com\"\n",
    "# password \n",
    "password = \"kagglepassword\"\n",
    "\n",
    "#username\n",
    "# username = \"kaudatunique\"\n",
    "\n",
    "#check if the email and password are not empty \n",
    "if email == None or password == None:\n",
    "    # print(\"Please enter your email and password in the script.py file\")\n",
    "    print(\"Please enter your email and password in the script.py file\")\n",
    "    exit()\n",
    "    \n",
    "\n",
    "signInUrl = \"https://www.kaggle.com/account/login?phase=emailSignIn\" \n",
    "driver.get(signInUrl)\n",
    "emailXPath = \"/html/body/main/div[1]/div/div[4]/div[2]/form/div[2]/div[1]/div/label/input\" \n",
    "email_input = WebDriverWait(driver, 10).until(EC.presence_of_element_located((By.XPATH, emailXPath)))\n",
    "email_input.send_keys(email)\n",
    "passwordXPath = \"/html/body/main/div[1]/div/div[4]/div[2]/form/div[2]/div[2]/div/label/input\"\n",
    "password_input = WebDriverWait(driver, 10).until(EC.presence_of_element_located((By.XPATH, passwordXPath)))\n",
    "password_input.send_keys(password)\n",
    "signInXPath = \"/html/body/main/div[1]/div/div[4]/div[2]/form/div[2]/div[3]/button/span\"\n",
    "signInButton = WebDriverWait(driver, 10).until(EC.presence_of_element_located((By.XPATH, signInXPath)))\n",
    "signInButton.click()\n",
    "time.sleep(15)"
   ]
  },
  {
   "cell_type": "code",
   "execution_count": 42,
   "metadata": {},
   "outputs": [],
   "source": [
    "url=\"https://www.kaggle.com/datasets/gayu14/tv-and-movie-metadata-with-genres-and-ratings-imbd\"\n",
    "driver.get(url)"
   ]
  },
  {
   "cell_type": "code",
   "execution_count": 43,
   "metadata": {},
   "outputs": [],
   "source": [
    "#save the page html to data.html\n",
    "with open('data.html', 'w') as data:\n",
    "    content = driver.page_source\n",
    "    data.write(content)"
   ]
  },
  {
   "cell_type": "code",
   "execution_count": 44,
   "metadata": {},
   "outputs": [
    {
     "name": "stdout",
     "output_type": "stream",
     "text": [
      "title: TV & Movie Metadata with Genres and Ratings (2023)\n",
      "sub_title  Movie Marvels: Genre, Ratings & Directors - An Entertainment Exploration!\n",
      "Author: Gayathri R \n",
      "Description: 🎥Title: \"TV and Movie Metadata with Genres and Ratings\"🎥\n",
      "Description:\n",
      "This dataset contains information about various TV shows and movies, including their genres, runtime, certification, ratings, stars, descriptions, votes, and directors. It covers a diverse range of genres, from action and adventure to drama and comedy. With approximately 129,890 rows, this dataset is a treasure trove for movie enthusiasts, data analysts, and machine learning enthusiasts alike.\n",
      "This dataset includes popular titles like \"The Witcher,\" \"Mission: Impossible - Dead Reckoning Part One,\" \"Sound of Freedom,\" \"Secret Invasion,\" \"Special Ops: Lioness,\" and \"They Cloned Tyrone,\" providing an exciting mix of content for exploration and analysis.\n",
      "With such rich metadata, users on Kaggle will have the opportunity to perform a wide range of analyses, such as investigating the relationship between genres and ratings, identifying trends in the popularity of different certificate types, and studying the impact of directors on a movie's success.\n",
      "So, dive into the world of entertainment data and unleash your creativity by exploring this comprehensive collection of TV shows and movies! Happy data exploration on Kaggle!\n",
      "Movie: This column contains the names or titles of the TV shows and movies. Each row represents a different TV show or movie.\n",
      "Genre: The \"Genre\" column specifies the category or type of content that the TV show or movie belongs to. It can contain multiple genres separated by commas, indicating that a TV show or movie can fall into multiple genres (e.g., \"Action, Adventure, Drama\").\n",
      "Runtime: The \"Runtime\" column represents the duration or length of the TV show or movie. The duration is typically measured in minutes (e.g., \"60 min\" or \"163 min\").\n",
      "Certificate: This column indicates the age rating or certification given to the TV show or movie. It provides information on the appropriate audience for the content. For example, \"A\" or \"UA\" might signify that the content is suitable for all audiences, while \"R\" might imply that it is intended for adults.\n",
      "Rating: The \"Rating\" column contains the average rating or score given to the TV show or movie. It represents the collective opinion of viewers or critics and typically ranges from 1 to 10, with 10 being the highest rating.\n",
      "Stars: This column lists the names of actors or actresses who starred in the TV show or movie. It provides information about the main cast members involved in the production.\n",
      "Description: The \"Description\" column contains a brief summary or synopsis of the TV show or movie's plot or storyline. It offers a glimpse into what the content is about.\n",
      "Votes: The \"Votes\" column represents the number of votes or user ratings that the TV show or movie has received. It reflects the popularity and engagement of the content among the audience.\n",
      "Director: This column contains the names of the directors who directed the TV show or movie. It provides information about the creative minds behind the production.\n",
      "In summary, this movie dataset provides a comprehensive set of attributes for various TV shows and movies, including their genres, duration, certification, ratings, stars, descriptions, vote counts, and directors. With this information, data enthusiasts can explore and analyze various aspects of the entertainment industry, such as genre popularity, audience preferences, and the impact of star actors or directors on a TV show or movie's success.expand_moreView more\n",
      "License: Unknown\n",
      "Tags: Arts and Entertainment,Movies and TV Shows\n"
     ]
    },
    {
     "name": "stderr",
     "output_type": "stream",
     "text": [
      "/tmp/ipykernel_42702/1281171958.py:37: DeprecationWarning: The 'text' argument to find()-type methods is deprecated. Use 'string' instead.\n",
      "  description = page_soup.find('div',text='About Dataset')\n",
      "/tmp/ipykernel_42702/1281171958.py:44: DeprecationWarning: The 'text' argument to find()-type methods is deprecated. Use 'string' instead.\n",
      "  license = page_soup.find('h2', text=\"License\")\n",
      "/tmp/ipykernel_42702/1281171958.py:54: DeprecationWarning: The 'text' argument to find()-type methods is deprecated. Use 'string' instead.\n",
      "  tags = page_soup.find('h2', text=\"Tags\")\n"
     ]
    }
   ],
   "source": [
    "data = open('data.html').read()\n",
    "page_soup = BeautifulSoup(data, 'html.parser')\n",
    "\n",
    "\n",
    "\n",
    "\n",
    "#title\n",
    "#get the dataset title\n",
    "try:\n",
    "    title = page_soup.find('h1', class_ = TITLE_CLASS_NAME)\n",
    "    title = title.text\n",
    "except:\n",
    "    title = \"\"\n",
    "\n",
    "#sub_title\n",
    "#get the dataset sub title\n",
    "try:\n",
    "    sub_title = page_soup.find('span', class_ = SUB_TITLE_CLASS_NAME)\n",
    "    sub_title = sub_title.text\n",
    "except:\n",
    "    sub_title = \"\"\n",
    "    \n",
    "#author_name\n",
    "#get the author name of the dataset\n",
    "try:\n",
    "    author_name = page_soup.find('span', class_ = AUTHOR_CLASS_NAME)\n",
    "    if \" and \" in author_name.text:\n",
    "        author_name = author_name.text.split(\" and \")[0]\n",
    "    else:\n",
    "        author_name = author_name.text\n",
    "except:\n",
    "    author_name = \"\"\n",
    "\n",
    "#description\n",
    "\n",
    "try:\n",
    "    description = page_soup.find('div',text='About Dataset')\n",
    "    description = description.find_next_sibling('div')\n",
    "    description = description.text\n",
    "except:\n",
    "    description = \"\"\n",
    "\n",
    "#license\n",
    "license = page_soup.find('h2', text=\"License\")\n",
    "try:\n",
    "    license = license.find_next_sibling('p')\n",
    "    license = license.text\n",
    "except:\n",
    "    license = \"\"\n",
    "\n",
    "\n",
    "\n",
    "#tags\n",
    "tags = page_soup.find('h2', text=\"Tags\")\n",
    "try:\n",
    "    tags = tags.find_next_sibling('div')\n",
    "    tags = tags.find_all('span')\n",
    "    tags = [tag.text for tag in tags]\n",
    "    tags = \",\".join(tags)\n",
    "except:\n",
    "    tags = \"\"\n",
    "\n",
    "print(\"title:\",title)\n",
    "print(\"sub_title\",sub_title)\n",
    "print(\"Author:\",author_name)\n",
    "print(\"Description:\", description)\n",
    "print(\"License:\", license)\n",
    "print(\"Tags:\", tags)\n"
   ]
  },
  {
   "cell_type": "code",
   "execution_count": null,
   "metadata": {},
   "outputs": [],
   "source": []
  }
 ],
 "metadata": {
  "kernelspec": {
   "display_name": "kaggle-scraper-l8rZHwZy",
   "language": "python",
   "name": "python3"
  },
  "language_info": {
   "codemirror_mode": {
    "name": "ipython",
    "version": 3
   },
   "file_extension": ".py",
   "mimetype": "text/x-python",
   "name": "python",
   "nbconvert_exporter": "python",
   "pygments_lexer": "ipython3",
   "version": "3.10.12"
  },
  "orig_nbformat": 4
 },
 "nbformat": 4,
 "nbformat_minor": 2
}
